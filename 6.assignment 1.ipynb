{
 "cells": [
  {
   "cell_type": "code",
   "execution_count": 1,
   "id": "8939bd98-a6a7-40b3-a343-f122d4b93a81",
   "metadata": {},
   "outputs": [],
   "source": [
    "#Q1. Create one variable containing following type of data:\n",
    "# String\n",
    "my_string = \"Hello, World!\"\n",
    "\n",
    "# List\n",
    "my_list = [1, 2, 3, 4, 5]\n",
    "\n",
    "# Float\n",
    "my_float = 3.14\n",
    "\n",
    "# Tuple\n",
    "my_tuple = (10, 20, 30)\n"
   ]
  },
  {
   "cell_type": "code",
   "execution_count": 9,
   "id": "6ea30e11-bc5a-4896-b413-8c1940912e67",
   "metadata": {},
   "outputs": [],
   "source": [
    "#Q2. Given are some following variables containing data:\n",
    "#(i) var1 = ‘ ‘\n",
    "#(ii) var2 = ‘[ DS , ML , Python]’\n",
    "#(iii) var3 = [ ‘DS’ , ’ML’ , ‘Python’ ]\n",
    "#(iv) var4 = 1.\n",
    "#What will be the data type of the above given variable.\n",
    "\n",
    "#ANSWER:\n",
    "#Based on the values assigned to the variables, here are the data types for each of them:\n",
    "\n",
    "#(i) var1 = ' ': The value assigned is a single space character enclosed in single quotes, which makes it a string. So, the data type of 'var1' is a 'string (str)'.\n",
    "\n",
    "#(ii) var2 = '[ DS , ML , Python]': The value assigned is a string that looks like a list, but it's actually a string containing a list-like representation. So, the data type of 'var2' is a 'string (str)'.\n",
    "\n",
    "#(iii) var3 = ['DS', 'ML', 'Python']: The value assigned is a list containing three string elements. So, the data type of 'var3' is a 'list (list)'.\n",
    "\n",
    "#(iv) var4 = 1.0: The value assigned is a floating-point number (a decimal number). So, the data type of 'var4' is a 'float (float)'."
   ]
  },
  {
   "cell_type": "code",
   "execution_count": 10,
   "id": "9f8137f7-ddb7-44b7-956f-2567729d7ef4",
   "metadata": {},
   "outputs": [
    {
     "data": {
      "text/plain": [
       "5.0"
      ]
     },
     "execution_count": 10,
     "metadata": {},
     "output_type": "execute_result"
    }
   ],
   "source": [
    "#Q3. Explain the use of the following operators using an example:\n",
    "#(i) / :- this is an arithmetic operator used to divide the first number by the second number. example of this operator is:\n",
    "10/2"
   ]
  },
  {
   "cell_type": "code",
   "execution_count": 11,
   "id": "ca52cc40-1ef0-4098-a14f-334a57761e99",
   "metadata": {},
   "outputs": [
    {
     "data": {
      "text/plain": [
       "1"
      ]
     },
     "execution_count": 11,
     "metadata": {},
     "output_type": "execute_result"
    }
   ],
   "source": [
    "#(ii) % : this is the modulous arithmetic operator which is used to divide the first number by the second number and then it shoes the remainder as the output.example of this arithmetic operator is:-\n",
    "10%3"
   ]
  },
  {
   "cell_type": "code",
   "execution_count": 12,
   "id": "08979cc0-307f-456a-93b2-b5db8c98fdb6",
   "metadata": {},
   "outputs": [
    {
     "data": {
      "text/plain": [
       "3"
      ]
     },
     "execution_count": 12,
     "metadata": {},
     "output_type": "execute_result"
    }
   ],
   "source": [
    "#(iii) // :- this is also an arithmetic which represents the floor devision. means it divides the firs tnumber by the second and rounds the result/output to the nearest integer(or whole number). example of floor division:\n",
    "10//3"
   ]
  },
  {
   "cell_type": "code",
   "execution_count": 13,
   "id": "180ab3b0-8c07-434d-a5d4-3a293374e429",
   "metadata": {},
   "outputs": [
    {
     "data": {
      "text/plain": [
       "32"
      ]
     },
     "execution_count": 13,
     "metadata": {},
     "output_type": "execute_result"
    }
   ],
   "source": [
    "#(iv) ** :- this operator is used for power means the first number raises to the second number. for example:\n",
    "2**5"
   ]
  },
  {
   "cell_type": "code",
   "execution_count": 14,
   "id": "78b67909-5bcf-43a5-8c79-8cd4525329fa",
   "metadata": {},
   "outputs": [
    {
     "name": "stdout",
     "output_type": "stream",
     "text": [
      "Element: 1, Data Type: <class 'int'>\n",
      "Element: Hello, Data Type: <class 'str'>\n",
      "Element: 3.14, Data Type: <class 'float'>\n",
      "Element: True, Data Type: <class 'bool'>\n",
      "Element: [1, 2, 3], Data Type: <class 'list'>\n",
      "Element: Python, Data Type: <class 'str'>\n",
      "Element: (10, 20), Data Type: <class 'tuple'>\n",
      "Element: False, Data Type: <class 'bool'>\n",
      "Element: 42, Data Type: <class 'int'>\n",
      "Element: None, Data Type: <class 'NoneType'>\n"
     ]
    }
   ],
   "source": [
    "#Q4. Create a list of length 10 of your choice containing multiple types of data. Using for loop print the element and its data type.\n",
    "my_list = [1, 'Hello', 3.14, True, [1, 2, 3], 'Python', (10, 20), False, 42, None]\n",
    "\n",
    "for item in my_list:\n",
    "    print(f\"Element: {item}, Data Type: {type(item)}\")\n"
   ]
  },
  {
   "cell_type": "code",
   "execution_count": 15,
   "id": "ffb45bc0-59df-4f01-96f1-6f52e856ea9b",
   "metadata": {},
   "outputs": [
    {
     "name": "stdin",
     "output_type": "stream",
     "text": [
      "Enter the value of A:  20\n",
      "Enter the value of B:  2\n"
     ]
    },
    {
     "name": "stdout",
     "output_type": "stream",
     "text": [
      "2 times, and the remainder is 5\n"
     ]
    }
   ],
   "source": [
    "#Q5. Using a while loop, verify if the number A is purely divisible by number B and if so then how many times it can be divisible.\n",
    "# Input the values of A and B\n",
    "A = int(input(\"Enter the value of A: \"))\n",
    "B = int(input(\"Enter the value of B: \"))\n",
    "\n",
    "# Initialize a count variable to keep track of how many times A can be divided by B\n",
    "count = 0\n",
    "\n",
    "# Use a while loop to check divisibility and count the number of divisions\n",
    "while A % B == 0:\n",
    "    A = A // B  # Update A by dividing it by B\n",
    "    count += 1  # Increment the count\n",
    "    \n",
    "if A == 0:\n",
    "    print(f\"{count} times, and the result is 0\")\n",
    "else:\n",
    "    print(f\"{count} times, and the remainder is {A}\")\n"
   ]
  },
  {
   "cell_type": "code",
   "execution_count": 16,
   "id": "292c2cc6-c373-4028-b990-ba584d4834e4",
   "metadata": {},
   "outputs": [
    {
     "name": "stdout",
     "output_type": "stream",
     "text": [
      "10 is not divisible by 3.\n",
      "15 is divisible by 3.\n",
      "6 is divisible by 3.\n",
      "22 is not divisible by 3.\n",
      "9 is divisible by 3.\n",
      "30 is divisible by 3.\n",
      "14 is not divisible by 3.\n",
      "18 is divisible by 3.\n",
      "5 is not divisible by 3.\n",
      "12 is divisible by 3.\n",
      "21 is divisible by 3.\n",
      "27 is divisible by 3.\n",
      "8 is not divisible by 3.\n",
      "7 is not divisible by 3.\n",
      "33 is divisible by 3.\n",
      "16 is not divisible by 3.\n",
      "3 is divisible by 3.\n",
      "25 is not divisible by 3.\n",
      "36 is divisible by 3.\n",
      "4 is not divisible by 3.\n",
      "17 is not divisible by 3.\n",
      "11 is not divisible by 3.\n",
      "20 is not divisible by 3.\n",
      "13 is not divisible by 3.\n",
      "24 is divisible by 3.\n"
     ]
    }
   ],
   "source": [
    "#Q6. Create a list containing 25 int type data. Using for loop and if-else condition print if the element is divisible by 3 or not.\n",
    "# Create a list of 25 integers\n",
    "my_list = [10, 15, 6, 22, 9, 30, 14, 18, 5, 12, 21, 27, 8, 7, 33, 16, 3, 25, 36, 4, 17, 11, 20, 13, 24]\n",
    "\n",
    "# Use a for loop to iterate through the list\n",
    "for num in my_list:\n",
    "    if num % 3 == 0:\n",
    "        print(f\"{num} is divisible by 3.\")\n",
    "    else:\n",
    "        print(f\"{num} is not divisible by 3.\")\n"
   ]
  },
  {
   "cell_type": "code",
   "execution_count": null,
   "id": "3af87ae7-f7ba-49ce-becd-cbe57d3a721f",
   "metadata": {},
   "outputs": [],
   "source": [
    "#Q7. What do you understand about mutable and immutable data types? Give examples for both showing this property.\n",
    "#In Python, data types can be categorized as either mutable or immutable based on whether their values can be changed after they are created.\n",
    "\n",
    "#IMMUTABLE DATA TYPES:\n",
    "\n",
    "#Immutable data types are those whose values cannot be modified after they are created.\n",
    "#Any operation that appears to modify an immutable object actually creates a new object with the modified value, rather than modifying the original object.\n",
    "#Examples of immutable data types in Python include strings, integers, floats, tuples, and frozensets."
   ]
  },
  {
   "cell_type": "code",
   "execution_count": 17,
   "id": "83e5150f-1a5b-4007-aa22-053c3323cede",
   "metadata": {},
   "outputs": [],
   "source": [
    "#EXAMPLES OF IMMUTABLE DATA TYPES:"
   ]
  },
  {
   "cell_type": "code",
   "execution_count": 18,
   "id": "fb5e8f39-186b-4903-b727-c5ba2ddd79ed",
   "metadata": {},
   "outputs": [
    {
     "name": "stdout",
     "output_type": "stream",
     "text": [
      "Hello World\n"
     ]
    }
   ],
   "source": [
    "#1. STRINGS:\n",
    "str1 = \"Hello\"\n",
    "str1 += \" World\"  # Creates a new string, doesn't modify str1\n",
    "print(str1)  # Output: \"Hello World\"\n"
   ]
  },
  {
   "cell_type": "code",
   "execution_count": 19,
   "id": "58455d41-97f9-4d33-a6cb-105b94604394",
   "metadata": {},
   "outputs": [
    {
     "name": "stdout",
     "output_type": "stream",
     "text": [
      "5\n",
      "7\n"
     ]
    }
   ],
   "source": [
    "#2.INTEGERS:\n",
    "num1 = 5\n",
    "num2 = num1 + 2  # Creates a new integer, doesn't modify num1\n",
    "print(num1)  # Output: 5\n",
    "print(num2)  # Output: 7\n"
   ]
  },
  {
   "cell_type": "code",
   "execution_count": 20,
   "id": "43776308-71d1-48a0-bdcf-aeef519eb79b",
   "metadata": {},
   "outputs": [
    {
     "name": "stdout",
     "output_type": "stream",
     "text": [
      "(1, 2, 3)\n",
      "(1, 2, 3, 4)\n"
     ]
    }
   ],
   "source": [
    "#3. TUPLES:\n",
    "tuple1 = (1, 2, 3)\n",
    "tuple2 = tuple1 + (4,)  # Creates a new tuple, doesn't modify tuple1\n",
    "print(tuple1)  # Output: (1, 2, 3)\n",
    "print(tuple2)  # Output: (1, 2, 3, 4)\n"
   ]
  },
  {
   "cell_type": "code",
   "execution_count": 21,
   "id": "5857b6e6-3bad-4208-93bf-5caa51a01f66",
   "metadata": {},
   "outputs": [],
   "source": [
    "#MUTABLE DATA TYPES:\n",
    "#Mutable data types are those whose values can be modified after they are created.\n",
    "#Operations can directly modify the content of mutable objects without creating new objects.\n",
    "#Examples of mutable data types in Python include lists, dictionaries, and sets."
   ]
  },
  {
   "cell_type": "code",
   "execution_count": 22,
   "id": "31e877ba-6de4-4726-a2c9-76b0e31aa7c4",
   "metadata": {},
   "outputs": [],
   "source": [
    "#EXAMPLES OF MUTABLE DATA TYPES:"
   ]
  },
  {
   "cell_type": "code",
   "execution_count": 23,
   "id": "102f4a6a-fbd0-41aa-8781-fb261a37c290",
   "metadata": {},
   "outputs": [
    {
     "name": "stdout",
     "output_type": "stream",
     "text": [
      "[1, 2, 3, 4]\n"
     ]
    }
   ],
   "source": [
    "#1.LISTS:\n",
    "list1 = [1, 2, 3]\n",
    "list1.append(4)  # Modifies list1 by adding an element\n",
    "print(list1)  # Output: [1, 2, 3, 4]\n"
   ]
  },
  {
   "cell_type": "code",
   "execution_count": 24,
   "id": "2cba30a8-c133-47c1-89cd-9c7f3f607fb6",
   "metadata": {},
   "outputs": [
    {
     "name": "stdout",
     "output_type": "stream",
     "text": [
      "{'name': 'Alice', 'age': 31}\n"
     ]
    }
   ],
   "source": [
    "#2.DICTIONARIES:\n",
    "dict1 = {'name': 'Alice', 'age': 30}\n",
    "dict1['age'] = 31  # Modifies the 'age' value in dict1\n",
    "print(dict1)  # Output: {'name': 'Alice', 'age': 31}\n"
   ]
  },
  {
   "cell_type": "code",
   "execution_count": 25,
   "id": "3edae9dc-7b55-4a12-9e4c-8134d386ebd7",
   "metadata": {},
   "outputs": [
    {
     "name": "stdout",
     "output_type": "stream",
     "text": [
      "{1, 2, 3, 4}\n"
     ]
    }
   ],
   "source": [
    "#3.SETS:\n",
    "set1 = {1, 2, 3}\n",
    "set1.add(4)  # Modifies set1 by adding an element\n",
    "print(set1)  # Output: {1, 2, 3, 4}\n"
   ]
  }
 ],
 "metadata": {
  "kernelspec": {
   "display_name": "Python 3 (ipykernel)",
   "language": "python",
   "name": "python3"
  },
  "language_info": {
   "codemirror_mode": {
    "name": "ipython",
    "version": 3
   },
   "file_extension": ".py",
   "mimetype": "text/x-python",
   "name": "python",
   "nbconvert_exporter": "python",
   "pygments_lexer": "ipython3",
   "version": "3.10.8"
  }
 },
 "nbformat": 4,
 "nbformat_minor": 5
}
